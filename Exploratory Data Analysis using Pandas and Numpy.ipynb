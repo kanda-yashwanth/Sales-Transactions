{
 "cells": [
  {
   "cell_type": "markdown",
   "id": "60bbea83",
   "metadata": {},
   "source": [
    "1. Load the dataset into a Pandas DataFrame"
   ]
  },
  {
   "cell_type": "code",
   "execution_count": 1,
   "id": "f96d7e31",
   "metadata": {},
   "outputs": [
    {
     "name": "stdout",
     "output_type": "stream",
     "text": [
      "<class 'pandas.core.frame.DataFrame'>\n",
      "RangeIndex: 1000 entries, 0 to 999\n",
      "Data columns (total 6 columns):\n",
      " #   Column          Non-Null Count  Dtype  \n",
      "---  ------          --------------  -----  \n",
      " 0   Date            1000 non-null   object \n",
      " 1   Store Location  1000 non-null   object \n",
      " 2   Department      1000 non-null   object \n",
      " 3   Product         1000 non-null   object \n",
      " 4   Total           1000 non-null   float64\n",
      " 5   Payment         1000 non-null   object \n",
      "dtypes: float64(1), object(5)\n",
      "memory usage: 47.0+ KB\n",
      "None\n"
     ]
    }
   ],
   "source": [
    "#Load the dataset into a Pandas DataFrame\n",
    "import pandas as pd\n",
    "df = pd.read_csv('sales data.csv')\n",
    "print(df.info())"
   ]
  },
  {
   "cell_type": "markdown",
   "id": "6c7a0724",
   "metadata": {},
   "source": [
    "2. Print the first five records of the dataset"
   ]
  },
  {
   "cell_type": "code",
   "execution_count": 2,
   "id": "b9e61483",
   "metadata": {},
   "outputs": [
    {
     "data": {
      "text/html": [
       "<div>\n",
       "<style scoped>\n",
       "    .dataframe tbody tr th:only-of-type {\n",
       "        vertical-align: middle;\n",
       "    }\n",
       "\n",
       "    .dataframe tbody tr th {\n",
       "        vertical-align: top;\n",
       "    }\n",
       "\n",
       "    .dataframe thead th {\n",
       "        text-align: right;\n",
       "    }\n",
       "</style>\n",
       "<table border=\"1\" class=\"dataframe\">\n",
       "  <thead>\n",
       "    <tr style=\"text-align: right;\">\n",
       "      <th></th>\n",
       "      <th>Date</th>\n",
       "      <th>Store Location</th>\n",
       "      <th>Department</th>\n",
       "      <th>Product</th>\n",
       "      <th>Total</th>\n",
       "      <th>Payment</th>\n",
       "    </tr>\n",
       "  </thead>\n",
       "  <tbody>\n",
       "    <tr>\n",
       "      <th>0</th>\n",
       "      <td>01-05-2019</td>\n",
       "      <td>Yangon</td>\n",
       "      <td>Health</td>\n",
       "      <td>Beauty</td>\n",
       "      <td>548.97</td>\n",
       "      <td>Ewallet</td>\n",
       "    </tr>\n",
       "    <tr>\n",
       "      <th>1</th>\n",
       "      <td>03-08-2019</td>\n",
       "      <td>Naypyitaw</td>\n",
       "      <td>Electronic</td>\n",
       "      <td>Accessories</td>\n",
       "      <td>80.22</td>\n",
       "      <td>Cash</td>\n",
       "    </tr>\n",
       "    <tr>\n",
       "      <th>2</th>\n",
       "      <td>03-03-2019</td>\n",
       "      <td>Yangon</td>\n",
       "      <td>Home</td>\n",
       "      <td>Lifestyle</td>\n",
       "      <td>340.53</td>\n",
       "      <td>Credit card</td>\n",
       "    </tr>\n",
       "    <tr>\n",
       "      <th>3</th>\n",
       "      <td>1-27-2019</td>\n",
       "      <td>Yangon</td>\n",
       "      <td>Health</td>\n",
       "      <td>Beauty</td>\n",
       "      <td>489.05</td>\n",
       "      <td>Ewallet</td>\n",
       "    </tr>\n",
       "    <tr>\n",
       "      <th>4</th>\n",
       "      <td>02-08-2019</td>\n",
       "      <td>Yangon</td>\n",
       "      <td>Sports</td>\n",
       "      <td>Travel</td>\n",
       "      <td>634.38</td>\n",
       "      <td>Ewallet</td>\n",
       "    </tr>\n",
       "  </tbody>\n",
       "</table>\n",
       "</div>"
      ],
      "text/plain": [
       "         Date Store Location  Department      Product   Total      Payment\n",
       "0  01-05-2019         Yangon      Health       Beauty  548.97      Ewallet\n",
       "1  03-08-2019      Naypyitaw  Electronic  Accessories   80.22         Cash\n",
       "2  03-03-2019         Yangon        Home    Lifestyle  340.53  Credit card\n",
       "3   1-27-2019         Yangon      Health       Beauty  489.05      Ewallet\n",
       "4  02-08-2019         Yangon      Sports       Travel  634.38      Ewallet"
      ]
     },
     "execution_count": 2,
     "metadata": {},
     "output_type": "execute_result"
    }
   ],
   "source": [
    "# view the first five rows\n",
    "df.head()"
   ]
  },
  {
   "cell_type": "markdown",
   "id": "e8d42d56",
   "metadata": {},
   "source": [
    "3. Find the most used payment method  in each store"
   ]
  },
  {
   "cell_type": "code",
   "execution_count": 3,
   "id": "afef865d",
   "metadata": {},
   "outputs": [
    {
     "name": "stdout",
     "output_type": "stream",
     "text": [
      "Store Location\n",
      "Mandalay     (Mandalay, Ewallet)\n",
      "Naypyitaw      (Naypyitaw, Cash)\n",
      "Yangon         (Yangon, Ewallet)\n",
      "dtype: object\n"
     ]
    }
   ],
   "source": [
    "# Group the data by store and payment method, count the number of transactions, and get the index with the highest count for each store\n",
    "most_used_payment_method = df.groupby(['Store Location', 'Payment']).size().groupby(level=0).idxmax()\n",
    "\n",
    "# Print the most used payment method for each store\n",
    "print(most_used_payment_method)"
   ]
  },
  {
   "cell_type": "markdown",
   "id": "dcbd9a64",
   "metadata": {},
   "source": [
    "4. Find the total amount of sales for each department and product"
   ]
  },
  {
   "cell_type": "code",
   "execution_count": 6,
   "id": "77b1d75a",
   "metadata": {},
   "outputs": [
    {
     "name": "stdout",
     "output_type": "stream",
     "text": [
      "Department  Product    \n",
      "Electronic  Accessories    54337.64\n",
      "Fashion     Accessories    54306.03\n",
      "Food        Beverages      56144.96\n",
      "Health      Beauty         49193.84\n",
      "Home        Lifestyle      53861.96\n",
      "Sports      Travel         55123.00\n",
      "Name: Total, dtype: float64\n"
     ]
    }
   ],
   "source": [
    "# Group the data by department and product, and calculate the total sales amount for each group\n",
    "total_sales = df.groupby(['Department', 'Product'])['Total'].sum()\n",
    "\n",
    "# Print the total sales amount for each department and product\n",
    "print(total_sales)"
   ]
  },
  {
   "cell_type": "markdown",
   "id": "e655268f",
   "metadata": {},
   "source": [
    "5. Find the average Payment for each store"
   ]
  },
  {
   "cell_type": "code",
   "execution_count": 7,
   "id": "0c9a96c1",
   "metadata": {},
   "outputs": [
    {
     "name": "stdout",
     "output_type": "stream",
     "text": [
      "Store Location\n",
      "Mandalay     319.873494\n",
      "Naypyitaw    337.100183\n",
      "Yangon       312.354618\n",
      "Name: Total, dtype: float64\n"
     ]
    }
   ],
   "source": [
    "# Group the DataFrame by store and calculate the average payment\n",
    "avg_payment = df.groupby('Store Location')['Total'].mean()\n",
    "\n",
    "# Print the result\n",
    "print(avg_payment)"
   ]
  },
  {
   "cell_type": "markdown",
   "id": "29398d5b",
   "metadata": {},
   "source": [
    "6. Find the highest-selling Department in each store"
   ]
  },
  {
   "cell_type": "code",
   "execution_count": 8,
   "id": "f21ddd45",
   "metadata": {},
   "outputs": [
    {
     "name": "stdout",
     "output_type": "stream",
     "text": [
      "Store Location\n",
      "Mandalay     (Mandalay, Sports)\n",
      "Naypyitaw     (Naypyitaw, Food)\n",
      "Yangon           (Yangon, Home)\n",
      "Name: Total, dtype: object\n"
     ]
    }
   ],
   "source": [
    "# Group the DataFrame by store and department and calculate the total sales\n",
    "total_sales = df.groupby(['Store Location', 'Department'])['Total'].sum()\n",
    "\n",
    "# Find the highest-selling department in each store\n",
    "highest_selling = total_sales.groupby('Store Location').idxmax()\n",
    "\n",
    "# Print the result\n",
    "print(highest_selling)"
   ]
  },
  {
   "cell_type": "markdown",
   "id": "507bcb7d",
   "metadata": {},
   "source": [
    "7. Create a bar graph comparing the total sales of each store"
   ]
  },
  {
   "cell_type": "code",
   "execution_count": 9,
   "id": "4bd2f12f",
   "metadata": {},
   "outputs": [
    {
     "data": {
      "image/png": "[encoded data removed]",
      "text/plain": [
       "<Figure size 640x480 with 1 Axes>"
      ]
     },
     "metadata": {},
     "output_type": "display_data"
    }
   ],
   "source": [
    "#Create a bar graph comparing the total sales of each store\n",
    "\n",
    "import matplotlib.pyplot as plt\n",
    "\n",
    "# Group the DataFrame by store and calculate the total sales\n",
    "total_sales = df.groupby('Store Location')['Total'].sum()\n",
    "\n",
    "# Create a bar graph of the total sales for each store\n",
    "total_sales.plot(kind='bar')\n",
    "\n",
    "# Add labels and title to the graph\n",
    "plt.xlabel('Store Location')\n",
    "plt.ylabel('Total Sales')\n",
    "plt.title('Total Sales by Store Location')\n",
    "\n",
    "# Show the graph\n",
    "plt.show()\n"
   ]
  },
  {
   "cell_type": "markdown",
   "id": "9adb0a4e",
   "metadata": {},
   "source": [
    "8. Find the total sales of each department in each store"
   ]
  },
  {
   "cell_type": "code",
   "execution_count": 10,
   "id": "5ebf69c7",
   "metadata": {},
   "outputs": [
    {
     "name": "stdout",
     "output_type": "stream",
     "text": [
      "Department  Store Location\n",
      "Electronic  Mandalay          17051.52\n",
      "            Naypyitaw         18968.99\n",
      "            Yangon            18317.13\n",
      "Fashion     Mandalay          16413.38\n",
      "            Naypyitaw         21560.11\n",
      "            Yangon            16332.54\n",
      "Food        Mandalay          15214.93\n",
      "            Naypyitaw         23766.88\n",
      "            Yangon            17163.15\n",
      "Health      Mandalay          19980.70\n",
      "            Naypyitaw         16615.35\n",
      "            Yangon            12597.79\n",
      "Home        Mandalay          17549.21\n",
      "            Naypyitaw         13895.54\n",
      "            Yangon            22417.21\n",
      "Sports      Mandalay          19988.26\n",
      "            Naypyitaw         15761.99\n",
      "            Yangon            19372.75\n",
      "Name: Total, dtype: float64\n"
     ]
    }
   ],
   "source": [
    "# Group the data by department and product, and calculate the total sales amount for each group\n",
    "total_sales = df.groupby(['Department', 'Store Location'])['Total'].sum()\n",
    "\n",
    "# Print the total sales amount for each department and product\n",
    "print(total_sales)"
   ]
  },
  {
   "cell_type": "markdown",
   "id": "7b700e19",
   "metadata": {},
   "source": [
    "9.Find the average mode of each payment method in each store"
   ]
  },
  {
   "cell_type": "code",
   "execution_count": 11,
   "id": "534c430f",
   "metadata": {},
   "outputs": [
    {
     "name": "stdout",
     "output_type": "stream",
     "text": [
      "Payment\n",
      "Cash           326.182442\n",
      "Credit card    324.010579\n",
      "Ewallet        318.821391\n",
      "Name: Total, dtype: float64\n"
     ]
    }
   ],
   "source": [
    "# Group the DataFrame by payment and calculate the average payment mode\n",
    "avg_mode = df.groupby('Payment')['Total'].mean()\n",
    "\n",
    "# Print the result\n",
    "print(avg_mode)"
   ]
  },
  {
   "cell_type": "markdown",
   "id": "ea735ada",
   "metadata": {},
   "source": [
    "10.Find the top 10 departments based on the average sales"
   ]
  },
  {
   "cell_type": "code",
   "execution_count": 12,
   "id": "55e80c61",
   "metadata": {
    "scrolled": false
   },
   "outputs": [
    {
     "name": "stdout",
     "output_type": "stream",
     "text": [
      "Department\n",
      "Home          336.637250\n",
      "Sports        332.066265\n",
      "Health        323.643684\n",
      "Food          322.672184\n",
      "Electronic    319.633176\n",
      "Fashion       305.090056\n",
      "Name: Total, dtype: float64\n"
     ]
    }
   ],
   "source": [
    "# Group the DataFrame by department and calculate the average sales\n",
    "avg_sales = df.groupby('Department')['Total'].mean()\n",
    "\n",
    "# Sort the departments in descending order based on their average sales\n",
    "top_departments = avg_sales.sort_values(ascending=False).head(10)\n",
    "\n",
    "# Print the top 10 departments based on the average sales\n",
    "print(top_departments)"
   ]
  },
  {
   "cell_type": "markdown",
   "id": "65bff1f4",
   "metadata": {},
   "source": [
    "11.Create a line graph comparing the average sales of the top 10 departments"
   ]
  },
  {
   "cell_type": "code",
   "execution_count": 13,
   "id": "4c64cbb7",
   "metadata": {},
   "outputs": [
    {
     "data": {
      "image/png": "[encoded data removed]",
      "text/plain": [
       "<Figure size 1000x600 with 1 Axes>"
      ]
     },
     "metadata": {},
     "output_type": "display_data"
    }
   ],
   "source": [
    "# Group the DataFrame by department and calculate the average sales\n",
    "avg_sales = df.groupby('Department')['Total'].mean()\n",
    "\n",
    "# Sort the departments in descending order based on their average sales\n",
    "top_departments = avg_sales.sort_values(ascending=False).head(10)\n",
    "\n",
    "# Plot a line graph of the average sales for the top 10 departments\n",
    "top_departments.plot(kind='line', figsize=(10, 6))\n",
    "\n",
    "# Set the title and axis labels\n",
    "plt.title('Average Sales of Top 10 Departments')\n",
    "plt.xlabel('Department')\n",
    "plt.ylabel('Average Sales')\n",
    "\n",
    "# Display the line graph\n",
    "plt.show()\n"
   ]
  },
  {
   "cell_type": "markdown",
   "id": "488d447e",
   "metadata": {},
   "source": [
    "12.Create a pivot table comparing the average of each payment method in each department"
   ]
  },
  {
   "cell_type": "code",
   "execution_count": 14,
   "id": "1fc1b575",
   "metadata": {},
   "outputs": [
    {
     "name": "stdout",
     "output_type": "stream",
     "text": [
      "Payment           Cash  Credit card     Ewallet\n",
      "Department                                     \n",
      "Electronic  291.972113   335.392174  343.010943\n",
      "Fashion     309.014035   309.555714  297.801692\n",
      "Food        337.033509   331.725246  298.193036\n",
      "Health      350.798980   319.389800  302.550943\n",
      "Home        364.490196   310.735333  332.654219\n",
      "Sports      319.896271   336.156792  341.348333\n"
     ]
    }
   ],
   "source": [
    "\n",
    "# Create a pivot table of the average sales for each payment method in each department\n",
    "pivot_table = df.pivot_table(values='Total', index='Department', columns='Payment', aggfunc='mean')\n",
    "\n",
    "# Display the pivot table\n",
    "print(pivot_table)"
   ]
  },
  {
   "cell_type": "markdown",
   "id": "ed63865a",
   "metadata": {},
   "source": [
    "13.Create a 1-dimensional Numpy array of size 10, filled with zeros."
   ]
  },
  {
   "cell_type": "code",
   "execution_count": 15,
   "id": "762b7377",
   "metadata": {},
   "outputs": [
    {
     "name": "stdout",
     "output_type": "stream",
     "text": [
      "[0. 0. 0. 0. 0. 0. 0. 0. 0. 0.]\n"
     ]
    }
   ],
   "source": [
    "import numpy as np\n",
    "\n",
    "arr = np.zeros(10)\n",
    "print (arr)"
   ]
  },
  {
   "cell_type": "markdown",
   "id": "d61b3d0a",
   "metadata": {},
   "source": [
    "14.Generate an array with 10 evenly spaced values between 0 and 1"
   ]
  },
  {
   "cell_type": "code",
   "execution_count": 16,
   "id": "31cf393d",
   "metadata": {},
   "outputs": [
    {
     "name": "stdout",
     "output_type": "stream",
     "text": [
      "[0.         0.11111111 0.22222222 0.33333333 0.44444444 0.55555556\n",
      " 0.66666667 0.77777778 0.88888889 1.        ]\n"
     ]
    }
   ],
   "source": [
    "arr = np.linspace(0, 1, 10)\n",
    "print(arr)"
   ]
  },
  {
   "cell_type": "markdown",
   "id": "e3ff0a56",
   "metadata": {},
   "source": [
    "15.Convert a list into a Numpy array and find its shape, size, and dimensions."
   ]
  },
  {
   "cell_type": "code",
   "execution_count": 17,
   "id": "be0b8374",
   "metadata": {},
   "outputs": [
    {
     "name": "stdout",
     "output_type": "stream",
     "text": [
      "Array: [1 2 3 4 5]\n",
      "Shape: (5,)\n",
      "Size: 5\n",
      "Dimensions: 1\n"
     ]
    }
   ],
   "source": [
    "my_list = [1, 2, 3, 4, 5]\n",
    "my_array = np.array(my_list)\n",
    "\n",
    "print(\"Array:\", my_array)\n",
    "print(\"Shape:\", my_array.shape)\n",
    "print(\"Size:\", my_array.size)\n",
    "print(\"Dimensions:\", my_array.ndim)"
   ]
  },
  {
   "cell_type": "markdown",
   "id": "30463df3",
   "metadata": {},
   "source": [
    "16.Extract all the odd numbers from a given Numpy array and store them in another array."
   ]
  },
  {
   "cell_type": "code",
   "execution_count": 18,
   "id": "041f27e4",
   "metadata": {},
   "outputs": [
    {
     "name": "stdout",
     "output_type": "stream",
     "text": [
      "Odd values: [1 3 5 7 9]\n",
      "Shape of odd array: (5,)\n"
     ]
    }
   ],
   "source": [
    "# create a numpy array with values\n",
    "arr = np.array([1, 2, 3, 4, 5, 6, 7, 8, 9])\n",
    "\n",
    "# extract odd values using boolean indexing\n",
    "odd_arr = arr[arr % 2 == 1]\n",
    "\n",
    "# print the extracted odd values and their shape\n",
    "print(\"Odd values:\", odd_arr)\n",
    "print(\"Shape of odd array:\", odd_arr.shape)"
   ]
  },
  {
   "cell_type": "markdown",
   "id": "1c7fee63",
   "metadata": {},
   "source": [
    "17.How to sort a NumPy array along a specific axis?"
   ]
  },
  {
   "cell_type": "code",
   "execution_count": 19,
   "id": "a5d41c8c",
   "metadata": {},
   "outputs": [
    {
     "name": "stdout",
     "output_type": "stream",
     "text": [
      "[[1 2 3]\n",
      " [4 5 6]]\n"
     ]
    }
   ],
   "source": [
    "# Create a 2D NumPy array\n",
    "arr = np.array([[3, 2, 1], [6, 5, 4]])\n",
    "\n",
    "# Sort along the rows (axis=1)\n",
    "sorted_arr = np.sort(arr, axis=1)\n",
    "print(sorted_arr)"
   ]
  },
  {
   "cell_type": "markdown",
   "id": "6aecd336",
   "metadata": {},
   "source": [
    "18.How do you sort a structured NumPy array by multiple fields?"
   ]
  },
  {
   "cell_type": "code",
   "execution_count": 20,
   "id": "7196a0a5",
   "metadata": {},
   "outputs": [
    {
     "name": "stdout",
     "output_type": "stream",
     "text": [
      "[('Charlie', 20, 45000.) ('Alice', 25, 50000.) ('Bob', 30, 60000.)]\n"
     ]
    }
   ],
   "source": [
    "# Create a structured NumPy array\n",
    "dtype = [('name', 'U10'), ('age', int), ('salary', float)]\n",
    "data = [('Alice', 25, 50000.0), ('Bob', 30, 60000.0), ('Charlie', 20, 45000.0)]\n",
    "arr = np.array(data, dtype=dtype)\n",
    "\n",
    "# Sort by age and then by salary\n",
    "sorted_arr = np.sort(arr, order=['age', 'salary'])\n",
    "\n",
    "print(sorted_arr)\n"
   ]
  },
  {
   "cell_type": "markdown",
   "id": "6a4dc47a",
   "metadata": {},
   "source": [
    "19.Given a Numpy array a of shape (m, n), how would you calculate the row-wise mean and column-wise mean of the array?"
   ]
  },
  {
   "cell_type": "code",
   "execution_count": 21,
   "id": "a300dff1",
   "metadata": {},
   "outputs": [
    {
     "name": "stdout",
     "output_type": "stream",
     "text": [
      "Row-wise Mean:  [2. 5. 8.]\n",
      "Column-wise Mean:  [4. 5. 6.]\n"
     ]
    }
   ],
   "source": [
    "# create a numpy array\n",
    "a = np.array([[1,2,3], [4,5,6], [7,8,9]])\n",
    "\n",
    "# calculate row-wise mean\n",
    "row_mean = np.mean(a, axis=1)\n",
    "\n",
    "print(\"Row-wise Mean: \", row_mean)\n",
    "\n",
    "# calculate column-wise mean\n",
    "column_mean = np.mean(a, axis=0)\n",
    "\n",
    "print(\"Column-wise Mean: \", column_mean)"
   ]
  },
  {
   "cell_type": "markdown",
   "id": "10d6d81d",
   "metadata": {},
   "source": [
    "20.Given a Numpy array a of shape (m, n), how would you find the element with the maximum absolute value in each row and return the indices of those elements?"
   ]
  },
  {
   "cell_type": "code",
   "execution_count": 22,
   "id": "0fce7d9c",
   "metadata": {},
   "outputs": [
    {
     "name": "stdout",
     "output_type": "stream",
     "text": [
      "Indices of elements with maximum absolute value in each row:  [2 2 2]\n"
     ]
    }
   ],
   "source": [
    "# create a numpy array\n",
    "a = np.array([[1,-2,3], [-4,5,6], [7,8,-9]])\n",
    "\n",
    "# find the indices of the element with the maximum absolute value in each row\n",
    "max_abs_idx = np.abs(a).argmax(axis=1)\n",
    "\n",
    "print(\"Indices of elements with maximum absolute value in each row: \", max_abs_idx)"
   ]
  },
  {
   "cell_type": "code",
   "execution_count": null,
   "id": "e049337d",
   "metadata": {},
   "outputs": [],
   "source": []
  }
 ],
 "metadata": {
  "kernelspec": {
   "display_name": "Python 3 (ipykernel)",
   "language": "python",
   "name": "python3"
  },
  "language_info": {
   "codemirror_mode": {
    "name": "ipython",
    "version": 3
   },
   "file_extension": ".py",
   "mimetype": "text/x-python",
   "name": "python",
   "nbconvert_exporter": "python",
   "pygments_lexer": "ipython3",
   "version": "3.9.13"
  }
 },
 "nbformat": 4,
 "nbformat_minor": 5
}
